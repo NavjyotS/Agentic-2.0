{
 "cells": [
  {
   "cell_type": "code",
   "execution_count": 1,
   "id": "16a0c313",
   "metadata": {},
   "outputs": [
    {
     "name": "stdout",
     "output_type": "stream",
     "text": [
      "all ok\n"
     ]
    }
   ],
   "source": [
    "print(\"all ok\")"
   ]
  },
  {
   "cell_type": "code",
   "execution_count": 2,
   "id": "d329e568",
   "metadata": {},
   "outputs": [],
   "source": [
    "from dotenv import load_dotenv"
   ]
  },
  {
   "cell_type": "code",
   "execution_count": 3,
   "id": "cb677cbc",
   "metadata": {},
   "outputs": [
    {
     "data": {
      "text/plain": [
       "True"
      ]
     },
     "execution_count": 3,
     "metadata": {},
     "output_type": "execute_result"
    }
   ],
   "source": [
    "load_dotenv()"
   ]
  },
  {
   "cell_type": "code",
   "execution_count": 4,
   "id": "b8d8247c",
   "metadata": {},
   "outputs": [],
   "source": [
    "from langchain_groq import ChatGroq"
   ]
  },
  {
   "cell_type": "code",
   "execution_count": 5,
   "id": "bf7fcee6",
   "metadata": {},
   "outputs": [],
   "source": [
    "llm=ChatGroq(model=\"deepseek-r1-distill-llama-70b\")"
   ]
  },
  {
   "cell_type": "code",
   "execution_count": 7,
   "id": "b71add76",
   "metadata": {},
   "outputs": [
    {
     "name": "stdout",
     "output_type": "stream",
     "text": [
      "<think>\n",
      "\n",
      "</think>\n",
      "\n",
      "The capital of France is Paris.\n"
     ]
    }
   ],
   "source": [
    "print(llm.invoke(\"What is the capital of France?\").content)"
   ]
  },
  {
   "cell_type": "code",
   "execution_count": 8,
   "id": "63f9c8ce",
   "metadata": {},
   "outputs": [
    {
     "name": "stdout",
     "output_type": "stream",
     "text": [
      "<think>\n",
      "Okay, so I need to find out what the capital of India is and provide a detailed explanation. Hmm, I remember hearing that India's capital is New Delhi, but I'm not entirely sure. Let me think about how to approach this.\n",
      "\n",
      "First, I should confirm whether New Delhi is indeed the capital. I think it is, but I might be confusing it with Mumbai or another major city. India is a large country with many significant cities, so it's important to get this right. Maybe I can recall some basic facts about India's government. I know India is a republic, so they have a president and a prime minister. The capital is where the central government is located.\n",
      "\n",
      "I remember that New Delhi is the capital, while Mumbai is the financial hub, and Kolkata, Chennai, and Bangalore are other major cities. So, that would mean New Delhi is the administrative center. But wait, sometimes people talk about Old Delhi too. Is that the same as New Delhi? I think they are adjacent but distinct areas. Old Delhi is more historic, while New Delhi was built as the capital by the British.\n",
      "\n",
      "Now, for the details. New Delhi was constructed during the British Raj in the early 20th century. The decision to move the capital from Kolkata to Delhi was made around 1911, and it was designed by architects like Edwin Lutyens and Herbert Baker. The city was officially inaugurated in 1931. So, it's a planned city with broad avenues and governmental buildings.\n",
      "\n",
      "Geographically, New Delhi is part of the National Capital Territory (NCT), which includes neighboring areas like Noida, Ghaziabad, and Gurgaon. It's located in the northern part of India, near the Yamuna River. The climate is humid subtropical with hot summers and cool winters. I think the population is around 30 million in the metropolitan area, making it one of the largest cities in the world.\n",
      "\n",
      "Culturally, New Delhi is a mix of old and new. There are historical sites like the Red Fort, Qutub Minar, and Humayun's Tomb, which are remnants of the Mughal era and older empires. On the other hand, modern landmarks like the India Gate, Parliament House, and Rashtrapati Bhavan showcase the colonial and modern architecture.\n",
      "\n",
      "Economically, New Delhi is a hub for various industries, including information technology, telecommunications, and tourism. It's also home to many diplomatic missions, as it's the seat of the government. The city has a well-connected transportation system, including the Delhi Metro, which is one of the most extensive in the world.\n",
      "\n",
      "Politically, New Delhi hosts important institutions like the Parliament of India, which consists of the Lok Sabha (House of the People) and the Rajya Sabha (Council of States). The President of India resides in Rashtrapati Bhavan, and the Prime Minister's office is also located there. The Supreme Court of India is another key institution based in the city.\n",
      "\n",
      "I should also consider the challenges New Delhi faces. Air pollution is a major issue, often ranking among the worst in the world. Traffic congestion is another problem, given the large population and the influx of people from surrounding areas. However, the city is also known for its cultural diversity, with people from all parts of India living and working there.\n",
      "\n",
      "To summarize, New Delhi is the capital of India, serving as the administrative and political center. It has a rich history, a blend of architectural styles, and is a hub for various economic activities. Despite facing environmental and infrastructural challenges, it remains a significant city both in India and globally.\n",
      "</think>\n",
      "\n",
      "The capital of India is New Delhi, a city rich in history and modern significance. Here's a detailed overview:\n",
      "\n",
      "1. **Confirmation and Context**: New Delhi is indeed the capital, distinct from other major cities like Mumbai, which is the financial hub. It serves as the administrative center, housing the central government.\n",
      "\n",
      "2. **Historical Background**: New Delhi was built by the British in the early 20th century, replacing Kolkata as the capital in 1911. It was designed by architects Edwin Lutyens and Herbert Baker and inaugurated in 1931.\n",
      "\n",
      "3. **Geography and Demographics**: Located in the National Capital Territory, it includes areas like Noida and Gurgaon. With a population over 30 million, it is one of the world's largest cities, situated near the Yamuna River with a humid subtropical climate.\n",
      "\n",
      "4. **Cultural Landscape**: The city blends historical sites like the Red Fort and Qutub Minar with modern landmarks such as India Gate. It reflects a mix of Mughal, colonial, and contemporary architecture.\n",
      "\n",
      "5. **Economic and Political Significance**: New Delhi is a hub for IT, telecommunications, and tourism, and hosts many diplomatic missions. It is home to key institutions like the Parliament, Rashtrapati Bhavan, and the Supreme Court.\n",
      "\n",
      "6. **Challenges and Diversity**: Despite issues like air pollution and traffic, the city thrives with cultural diversity, attracting people from across India.\n",
      "\n",
      "In essence, New Delhi is a vibrant capital that seamlessly blends history with modernity, serving as India's political and administrative heart.\n"
     ]
    }
   ],
   "source": [
    "print(llm.invoke(\"What is the capital of india tell me in detail?\").content)"
   ]
  },
  {
   "cell_type": "code",
   "execution_count": 9,
   "id": "2f3025e9",
   "metadata": {},
   "outputs": [],
   "source": [
    "import os\n",
    "from langchain_community.tools.tavily_search import TavilySearchResults\n",
    "TAVILY_API_KEY=os.getenv(\"TAVILY_API_KEY\")\n",
    "search_tool=TavilySearchResults(tavily_api_key=TAVILY_API_KEY)"
   ]
  },
  {
   "cell_type": "code",
   "execution_count": 10,
   "id": "a58ca5c5",
   "metadata": {},
   "outputs": [
    {
     "data": {
      "text/plain": [
       "[{'title': 'Paris facts: the capital of France in history',\n",
       "  'url': 'https://home.adelphi.edu/~ca19535/page%204.html',\n",
       "  'content': 'page 4\\n\\n===============\\n\\nHomeSpainSydneySan FranciscoParisLas VegasMaui\\n\\n Paris, France\\n\\nImage 1\\n\\nParis facts: Paris, the capital of France\\n---------------------------------------------\\n\\nParis is the capital of France, the largest country of Europe with 550 000 km2 (65 millions inhabitants).\\n\\nParis has 2.234 million inhabitants end 2011. She is the core of Ile de France region (12 million people). [...] Before Paris, the capital of France was Lyon (under the Romans). Paris first became the capital of France in 508 under King Clovis. After centuries with no unique capital of France, Paris retrieved its status of capital of France under King Philippe Auguste, who reigned between 1180 and 1223. You can see remains of the Philippe August Paris walls in the passageway between the Louvre parking and Louvre Museum [...] Paris remained the capital of France until today, with one four year interruption. During German occupation (WW2 , 1940-1944), the capital of France was Vichy.\\n\\ngo to top\\n\\nReference:',\n",
       "  'score': 0.89166987},\n",
       " {'title': 'Paris - Simple English Wikipedia, the free encyclopedia',\n",
       "  'url': 'https://simple.wikipedia.org/wiki/Paris',\n",
       "  'content': 'Wikipedia\\n\\n# Paris\\n\\nParis (nicknamed the \"City of light\") is the capital city \"Capital (city)\") of France, and the largest city in France. The area is 105 square kilometres (41 square miles), and around 2.15 million people live there. If suburbs are counted, the population of the Paris area rises to 10.7 million people. It is the most densely populated city in the European Union, with 20.653 people per square kilometer.',\n",
       "  'score': 0.88372874},\n",
       " {'title': 'Paris - Wikipedia',\n",
       "  'url': 'https://en.wikipedia.org/wiki/Paris',\n",
       "  'content': 'As the capital of France, Paris is the seat of France\\'s national government. For the executive, the two chief officers each have their own official residences, which also serve as their offices. The President of the French Republic resides at the Élysée Palace.( The Prime Minister\\'s seat is at the Hôtel Matignon.( Government ministries are located in various parts of the city, many near the Hôtel Matignon.( [...] Appearance\\n\\nmove to sidebar hide\\n\\nCoordinates: 48°51′24″N 2°21′8″E / 48.85667°N 2.35222°E / 48.85667; 2.35222_region:FR-75C)\\n\\nImage 4: This is a good article. Click here for more information.\\n\\nImage 5: Page semi-protected\\n\\nFrom Wikipedia, the free encyclopedia\\n\\nCapital and largest city of France\\n\\nThis article is about the capital city of France. For other uses, see Paris (disambiguation) \"Paris (disambiguation)\"). [...] Paris (French pronunciation:( \"Help:IPA/French\")ⓘ) is the capital and largest city of France. With an estimated population of 2,048,472 residents in January 2025( in an area of more than 105 km 2 (41 sq mi),( Paris is the fourth-most populous city in the European Union and the 30th most densely populated city in the world in 2022.( Since the 17th century, Paris has been one of the world\\'s major centres of finance, diplomacy, commerce, culture, fashion, and gastronomy. Because of its leading',\n",
       "  'score': 0.8815438},\n",
       " {'title': 'What is the Capital of France? - WorldAtlas',\n",
       "  'url': 'https://www.worldatlas.com/articles/what-is-the-capital-of-france.html',\n",
       "  'content': 'Paris is the capital city of France. The city has an approximate area of 41 square miles with a population of 2,206,488 people as of 2018. Contrary to popular belief, the name of the city did not come from the Paris in Greek myths. Instead, the name Paris is derived from the city’s initial inhabitants who were part of the Celtic Parisii tribe. Sometimes, the city is called the City of Light for two reasons; it was among the first cities to adopt gas for lighting the streets and its role during [...] Published Time: 2018-06-29T15:23:00-04:00\\n\\nWhat is the Capital of France? - WorldAtlas\\n\\n===============\\n\\nWhat is the Capital of France?\\n==============================\\n\\nImage 1: Tourism has always been a major source of income for Paris. \\n\\nTourism has always been a major source of income for Paris. [...] As the capital city of France, the city plays host to the national government of France. Even the official residence of the president is in the city at the Élysée Palace while the Prime Minister is housed at the Hôtel Matignon. The Senate or the upper house meets at the Palais du Luxembourg while the Palais Bourbon is the meeting point for the Assemblée Nationale. The second highest public official after the President of France, the President of the Senate, stays at the Petit Luxembourg.',\n",
       "  'score': 0.87807417},\n",
       " {'title': 'Paris - Wikiwand',\n",
       "  'url': 'https://www.wikiwand.com/en/articles/Paris',\n",
       "  'content': 'As the capital of France, Paris is the seat of France\\'s national government. For the executive, the two chief officers each have their own official residences, which also serve as their offices. The President of the French Republic resides at the Élysée Palace.(./Paris#cite_note-121) The Prime Minister\\'s seat is at the Hôtel Matignon.(./Paris#cite_note-122)(./Paris#cite_note-FOOTNOTEKnappWright200693–94-123) Government ministries are located in various parts of the city, many near the Hôtel [...] Paris (French pronunciation: ( \"Help:IPA/French\") ⓘ) is the capital and largest city of France. With an estimated population of 2,048,472 residents in January 2025(./Paris#cite_note-pop2025-3) in an area of more than 105 km2 (41 sq mi),(./Paris#cite_note-pop2019-4) Paris is the fourth-most populous city in the European Union and the 30th most densely populated city in the world in 2022.(./Paris#cite_note-5) Since the 17th century, Paris has been one of the world\\'s major centres of finance, [...] With 200,000 inhabitants in 1328, Paris, then already the capital of France, was the most populous city of Europe. By comparison, London in 1300 had 80,000 inhabitants.(./Paris#cite_note-ParisDigest-39) By the early fourteenth century, so much filth had collected inside urban Europe that French and Italian cities were naming streets after human waste. In medieval Paris, several street names were inspired by merde, the French word for \"shit\".(./Paris#cite_note-40)\\n\\nThumb',\n",
       "  'score': 0.875031}]"
      ]
     },
     "execution_count": 10,
     "metadata": {},
     "output_type": "execute_result"
    }
   ],
   "source": [
    "search_tool.invoke(\"What is the capital of France?\")"
   ]
  },
  {
   "cell_type": "code",
   "execution_count": 11,
   "id": "1b42b897",
   "metadata": {},
   "outputs": [],
   "source": [
    "my_code = \"\"\"\n",
    "x=10\n",
    "y=x+10\n",
    "print(y)\n",
    "\"\"\""
   ]
  },
  {
   "cell_type": "code",
   "execution_count": 12,
   "id": "8503b501",
   "metadata": {},
   "outputs": [],
   "source": [
    "from langchain_experimental.utilities import PythonREPL"
   ]
  },
  {
   "cell_type": "code",
   "execution_count": 13,
   "id": "5437036d",
   "metadata": {},
   "outputs": [],
   "source": [
    "repl=PythonREPL()"
   ]
  },
  {
   "cell_type": "code",
   "execution_count": 14,
   "id": "42c0b971",
   "metadata": {},
   "outputs": [
    {
     "name": "stderr",
     "output_type": "stream",
     "text": [
      "Python REPL can execute arbitrary code. Use with caution.\n"
     ]
    },
    {
     "data": {
      "text/plain": [
       "'20\\n'"
      ]
     },
     "execution_count": 14,
     "metadata": {},
     "output_type": "execute_result"
    }
   ],
   "source": [
    "repl.run(my_code)"
   ]
  },
  {
   "cell_type": "code",
   "execution_count": 15,
   "id": "790086cd",
   "metadata": {},
   "outputs": [
    {
     "ename": "AttributeError",
     "evalue": "'PythonREPL' object has no attribute 'invoke'",
     "output_type": "error",
     "traceback": [
      "\u001b[1;31m---------------------------------------------------------------------------\u001b[0m",
      "\u001b[1;31mAttributeError\u001b[0m                            Traceback (most recent call last)",
      "Cell \u001b[1;32mIn[15], line 1\u001b[0m\n\u001b[1;32m----> 1\u001b[0m \u001b[43mrepl\u001b[49m\u001b[38;5;241;43m.\u001b[39;49m\u001b[43minvoke\u001b[49m(my_code)\n",
      "File \u001b[1;32mc:\\Complete_Content2\\Agentic-2.0\\env\\lib\\site-packages\\pydantic\\main.py:991\u001b[0m, in \u001b[0;36mBaseModel.__getattr__\u001b[1;34m(self, item)\u001b[0m\n\u001b[0;32m    988\u001b[0m     \u001b[38;5;28;01mreturn\u001b[39;00m \u001b[38;5;28msuper\u001b[39m()\u001b[38;5;241m.\u001b[39m\u001b[38;5;21m__getattribute__\u001b[39m(item)  \u001b[38;5;66;03m# Raises AttributeError if appropriate\u001b[39;00m\n\u001b[0;32m    989\u001b[0m \u001b[38;5;28;01melse\u001b[39;00m:\n\u001b[0;32m    990\u001b[0m     \u001b[38;5;66;03m# this is the current error\u001b[39;00m\n\u001b[1;32m--> 991\u001b[0m     \u001b[38;5;28;01mraise\u001b[39;00m \u001b[38;5;167;01mAttributeError\u001b[39;00m(\u001b[38;5;124mf\u001b[39m\u001b[38;5;124m'\u001b[39m\u001b[38;5;132;01m{\u001b[39;00m\u001b[38;5;28mtype\u001b[39m(\u001b[38;5;28mself\u001b[39m)\u001b[38;5;241m.\u001b[39m\u001b[38;5;18m__name__\u001b[39m\u001b[38;5;132;01m!r}\u001b[39;00m\u001b[38;5;124m object has no attribute \u001b[39m\u001b[38;5;132;01m{\u001b[39;00mitem\u001b[38;5;132;01m!r}\u001b[39;00m\u001b[38;5;124m'\u001b[39m)\n",
      "\u001b[1;31mAttributeError\u001b[0m: 'PythonREPL' object has no attribute 'invoke'"
     ]
    }
   ],
   "source": [
    "repl.invoke(my_code)"
   ]
  },
  {
   "cell_type": "code",
   "execution_count": 16,
   "id": "c5d7721e",
   "metadata": {},
   "outputs": [],
   "source": [
    "from typing import Annotated"
   ]
  },
  {
   "cell_type": "code",
   "execution_count": 17,
   "id": "c16513e5",
   "metadata": {},
   "outputs": [],
   "source": [
    "from langchain_core.tools import tool"
   ]
  },
  {
   "cell_type": "code",
   "execution_count": 18,
   "id": "c3e1cd52",
   "metadata": {},
   "outputs": [],
   "source": [
    "@tool\n",
    "def python_repl_tool(code: Annotated[str, \"The python code to execute to generate your chart.\"]):\n",
    "    \"\"\"Use this to execute python code and do math. If you want to see the output of a value,\n",
    "    you should print it out with `print(...)`. This is visible to the user.\"\"\"\n",
    "    \n",
    "    try:\n",
    "        result = repl.run(code)\n",
    "    except BaseException as e:\n",
    "        return f\"Failed to execute. Error: {repr(e)}\"\n",
    "    \n",
    "    result_str = f\"Successfully executed:\\n\\`\\`\\`python\\n{code}\\n\\`\\`\\`\\nStdout: {result}\"\n",
    "    return result_str"
   ]
  },
  {
   "cell_type": "code",
   "execution_count": 19,
   "id": "cd58ce97",
   "metadata": {},
   "outputs": [
    {
     "data": {
      "text/plain": [
       "'Successfully executed:\\n\\\\`\\\\`\\\\`python\\nx=10\\ny=x+10\\nprint(y)\\n\\\\`\\\\`\\\\`\\nStdout: 20\\n'"
      ]
     },
     "execution_count": 19,
     "metadata": {},
     "output_type": "execute_result"
    }
   ],
   "source": [
    "python_repl_tool.invoke(\"x=10\\ny=x+10\\nprint(y)\")"
   ]
  },
  {
   "cell_type": "code",
   "execution_count": 20,
   "id": "f1a5c909",
   "metadata": {},
   "outputs": [
    {
     "data": {
      "text/plain": [
       "'Successfully executed:\\n\\\\`\\\\`\\\\`python\\n\\nx=10\\ny=x+10\\nprint(y)\\n\\n\\\\`\\\\`\\\\`\\nStdout: 20\\n'"
      ]
     },
     "execution_count": 20,
     "metadata": {},
     "output_type": "execute_result"
    }
   ],
   "source": [
    "python_repl_tool.invoke(my_code)"
   ]
  },
  {
   "cell_type": "markdown",
   "id": "e78c0cad",
   "metadata": {},
   "source": [
    "### WE HAVE TWO SUB AGENT \n",
    "1. RESEARCHER- internet\n",
    "2. CODER- executing the code"
   ]
  },
  {
   "cell_type": "code",
   "execution_count": 21,
   "id": "c12eecfe",
   "metadata": {},
   "outputs": [],
   "source": [
    "members=[\"researcher\",\"coder\"]"
   ]
  },
  {
   "cell_type": "code",
   "execution_count": 22,
   "id": "ca4e6b04",
   "metadata": {},
   "outputs": [
    {
     "data": {
      "text/plain": [
       "['researcher', 'coder']"
      ]
     },
     "execution_count": 22,
     "metadata": {},
     "output_type": "execute_result"
    }
   ],
   "source": [
    "members"
   ]
  },
  {
   "cell_type": "code",
   "execution_count": 23,
   "id": "2f39944d",
   "metadata": {},
   "outputs": [],
   "source": [
    "options = members+[\"FINISH\"]"
   ]
  },
  {
   "cell_type": "code",
   "execution_count": 24,
   "id": "8eb629a7",
   "metadata": {},
   "outputs": [
    {
     "data": {
      "text/plain": [
       "['researcher', 'coder', 'FINISH']"
      ]
     },
     "execution_count": 24,
     "metadata": {},
     "output_type": "execute_result"
    }
   ],
   "source": [
    "options"
   ]
  },
  {
   "cell_type": "code",
   "execution_count": 25,
   "id": "9e24282f",
   "metadata": {},
   "outputs": [],
   "source": [
    "from typing import Literal"
   ]
  },
  {
   "cell_type": "code",
   "execution_count": 26,
   "id": "200c6c2e",
   "metadata": {},
   "outputs": [],
   "source": [
    "from typing_extensions import TypedDict"
   ]
  },
  {
   "cell_type": "code",
   "execution_count": null,
   "id": "6b3b4734",
   "metadata": {},
   "outputs": [],
   "source": []
  },
  {
   "cell_type": "markdown",
   "id": "8049ed75",
   "metadata": {},
   "source": [
    "## There is no routing logic\n",
    "### it is simply going to return the next candidate(next_agent)\n",
    "### this next is containig the next candidate name"
   ]
  },
  {
   "cell_type": "code",
   "execution_count": 27,
   "id": "72d958d1",
   "metadata": {},
   "outputs": [],
   "source": [
    "class Router(TypedDict):\n",
    "    next: Literal['researcher', 'coder', 'FINISH']"
   ]
  },
  {
   "cell_type": "code",
   "execution_count": 28,
   "id": "2cd295dc",
   "metadata": {},
   "outputs": [],
   "source": [
    "from langgraph.graph import MessagesState,StateGraph,START, END"
   ]
  },
  {
   "cell_type": "code",
   "execution_count": 92,
   "id": "a5227179",
   "metadata": {},
   "outputs": [],
   "source": [
    "class State(MessagesState):\n",
    "    next:str"
   ]
  },
  {
   "cell_type": "markdown",
   "id": "b2a84759",
   "metadata": {},
   "source": [
    "##### this is how my state will be looking like"
   ]
  },
  {
   "cell_type": "code",
   "execution_count": 109,
   "id": "a154231b",
   "metadata": {},
   "outputs": [],
   "source": [
    "state={\"messages\": [\"hi\"], \"next\": \"research_agent\"}"
   ]
  },
  {
   "cell_type": "code",
   "execution_count": 122,
   "id": "791ffeba",
   "metadata": {},
   "outputs": [],
   "source": [
    "system_prompt = f\"\"\"\"\n",
    "You are a supervisor, tasked with managing a conversation between the following workers: {members}. \n",
    "Given the following user request, respond with the worker to act next. \n",
    "Each worker will perform a task and respond with their results and status. \n",
    "When finished, respond with FINISH.\n",
    "\"\"\""
   ]
  },
  {
   "cell_type": "code",
   "execution_count": null,
   "id": "6b741205",
   "metadata": {},
   "outputs": [],
   "source": [
    "# system_prompt = f\"\"\"\"\n",
    "# You are a supervisor, tasked with managing a conversation between the following workers: {members}. \n",
    "# Given the following user request, respond with the worker to act next. \n",
    "# Each worker will perform a task and respond with their results and status. \n",
    "# When finished, respond with FINISH.\n",
    "# **Strict Guidelines:**\n",
    "# if there is any common messages like hi, hello, how are you, greetings etc then,respond with FINISH.\n",
    "# \"\"\""
   ]
  },
  {
   "cell_type": "code",
   "execution_count": 117,
   "id": "4076dc8e",
   "metadata": {},
   "outputs": [
    {
     "name": "stdout",
     "output_type": "stream",
     "text": [
      "\"\n",
      "You are a supervisor, tasked with managing a conversation between the following workers: ['researcher', 'coder']. \n",
      "Given the following user request, respond with the worker to act next. \n",
      "Each worker will perform a task and respond with their results and status. \n",
      "When finished, respond with FINISH.\n",
      "**Strict Guidelines:**\n",
      "if there is any common messages like hi, hello, how are you, greetings etc then,respond with FINISH.\n",
      "\n"
     ]
    }
   ],
   "source": [
    "print(system_prompt)"
   ]
  },
  {
   "cell_type": "code",
   "execution_count": 124,
   "id": "1fc1b413",
   "metadata": {},
   "outputs": [],
   "source": [
    "messages = [{\"role\": \"system\", \"content\": system_prompt},] + state[\"messages\"]"
   ]
  },
  {
   "cell_type": "code",
   "execution_count": 125,
   "id": "5d7689a2",
   "metadata": {},
   "outputs": [
    {
     "data": {
      "text/plain": [
       "[{'role': 'system',\n",
       "  'content': '\"\\nYou are a supervisor, tasked with managing a conversation between the following workers: [\\'researcher\\', \\'coder\\']. \\nGiven the following user request, respond with the worker to act next. \\nEach worker will perform a task and respond with their results and status. \\nWhen finished, respond with FINISH.\\n'},\n",
       " 'hi']"
      ]
     },
     "execution_count": 125,
     "metadata": {},
     "output_type": "execute_result"
    }
   ],
   "source": [
    "messages"
   ]
  },
  {
   "cell_type": "markdown",
   "id": "0abc374e",
   "metadata": {},
   "source": [
    "[{'role': 'system',\n",
    "  'content': '\"\\nYou are a supervisor, tasked with managing a conversation between the following workers: [\\'researcher\\', \\'coder\\']. \\nGiven the following user request, respond with the worker to act next. \\nEach worker will perform a task and respond with their results and status. \\nWhen finished, respond with FINISH.\\n**Strict Guidelines:**\\nif there is any common messages like hi, hello, how are you, greetings etc then,respond with FINISH.\\n'},\n",
    " 'hi']"
   ]
  },
  {
   "cell_type": "code",
   "execution_count": 126,
   "id": "b57bfa60",
   "metadata": {},
   "outputs": [],
   "source": [
    "llm_with_structure_output=llm.with_structured_output(Router)"
   ]
  },
  {
   "cell_type": "code",
   "execution_count": 127,
   "id": "1625b431",
   "metadata": {},
   "outputs": [
    {
     "data": {
      "text/plain": [
       "{'next': 'researcher'}"
      ]
     },
     "execution_count": 127,
     "metadata": {},
     "output_type": "execute_result"
    }
   ],
   "source": [
    "llm_with_structure_output.invoke(messages)"
   ]
  },
  {
   "cell_type": "markdown",
   "id": "e0550e25",
   "metadata": {},
   "source": [
    "#### you can try out with this prompt also"
   ]
  },
  {
   "cell_type": "code",
   "execution_count": null,
   "id": "771b69cf",
   "metadata": {},
   "outputs": [],
   "source": [
    "# system_prompt = f\"\"\"\n",
    "# You are a supervisor managing a task delegation system with the following workers: {members}.\n",
    "\n",
    "# Your job is to decide which worker should act next based on the user’s input.\n",
    "\n",
    "# Guidelines:\n",
    "# - Carefully read the user’s message.\n",
    "# - If the message clearly requires a specific action (e.g., search, compute, rewrite), assign it to the appropriate worker.\n",
    "# - If the message is general, conversational, or does **not** require any specific action, immediately respond with `FINISH`.\n",
    "# - Do **not** invent tasks or assign actions unless the message clearly demands it.\n",
    "\n",
    "# Each worker will return results after completing their task.\n",
    "# Once all necessary tasks are completed, end the flow by responding with `FINISH`.\n",
    "\n",
    "# Be strict — if the message is casual, rhetorical, or lacks a clear task, reply with `FINISH`.\n",
    "# \"\"\"\n"
   ]
  },
  {
   "cell_type": "markdown",
   "id": "f5679fab",
   "metadata": {},
   "source": [
    "#### This is my all three agents"
   ]
  },
  {
   "cell_type": "code",
   "execution_count": 66,
   "id": "4066541b",
   "metadata": {},
   "outputs": [],
   "source": [
    "from langgraph.types import Command"
   ]
  },
  {
   "cell_type": "code",
   "execution_count": 78,
   "id": "a9dd8853",
   "metadata": {},
   "outputs": [],
   "source": [
    "def supervisor_agent(state:State)->Command[Literal['researcher', 'coder', '__end__']]:\n",
    "    \n",
    "    messages = [{\"role\": \"system\", \"content\": system_prompt},] + state[\"messages\"]\n",
    "    \n",
    "    llm_with_structure_output=llm.with_structured_output(Router)\n",
    "    \n",
    "    response=llm_with_structure_output.invoke(messages)\n",
    "    \n",
    "    #this is my next worker agent\n",
    "    goto=response[\"next\"]\n",
    "    \n",
    "    print(\"**********BELOW IS MY GOTO***************\")\n",
    "    \n",
    "    print(goto)\n",
    "    \n",
    "    if goto == \"FINISH\":\n",
    "        goto=END\n",
    "        \n",
    "    return Command(goto=goto, update={\"next\":goto})"
   ]
  },
  {
   "cell_type": "code",
   "execution_count": 79,
   "id": "a525e86e",
   "metadata": {},
   "outputs": [],
   "source": [
    "from langgraph.prebuilt import create_react_agent"
   ]
  },
  {
   "cell_type": "code",
   "execution_count": 80,
   "id": "0cdb3b21",
   "metadata": {},
   "outputs": [],
   "source": [
    "from langchain_core.messages import AIMessage, HumanMessage"
   ]
  },
  {
   "cell_type": "code",
   "execution_count": 81,
   "id": "5bbd8ed7",
   "metadata": {},
   "outputs": [],
   "source": [
    "def research_agent(state: State) -> Command[Literal[\"supervisor\"]]:\n",
    "    \n",
    "    research_agent = create_react_agent(llm, tools=[search_tool], prompt=\"You are a researcher. DO NOT do any math.\")\n",
    "    \n",
    "    result=research_agent.invoke(state)\n",
    "    \n",
    "    return Command(\n",
    "        update={\n",
    "            \"messages\": [\n",
    "                HumanMessage(content=result[\"messages\"][-1].content, name=\"researcher\")\n",
    "            ]\n",
    "        },\n",
    "        goto=\"supervisor\",\n",
    "    )\n",
    "    "
   ]
  },
  {
   "cell_type": "code",
   "execution_count": 82,
   "id": "3b99ff85",
   "metadata": {},
   "outputs": [],
   "source": [
    "def coder_agent(state:State)->Command[Literal['supervisor']]:\n",
    "    code_agent=create_react_agent(llm,tools=[python_repl_tool], prompt=\"You are a coder. DO NOT do any research.\")\n",
    "    result=code_agent.invoke(state)\n",
    "    \n",
    "    return Command(\n",
    "        update={\n",
    "            \"messages\": [\n",
    "                HumanMessage(content=result[\"messages\"][-1].content, name=\"coder\")\n",
    "            ]\n",
    "        },\n",
    "        goto=\"supervisor\",\n",
    "    )\n",
    "    "
   ]
  },
  {
   "cell_type": "markdown",
   "id": "beb7d161",
   "metadata": {},
   "source": [
    "#### this is my orchestration flow with langgraph"
   ]
  },
  {
   "cell_type": "code",
   "execution_count": 83,
   "id": "626bb385",
   "metadata": {},
   "outputs": [],
   "source": [
    "graph=StateGraph(State)"
   ]
  },
  {
   "cell_type": "code",
   "execution_count": 84,
   "id": "5ff8c103",
   "metadata": {},
   "outputs": [
    {
     "data": {
      "text/plain": [
       "<langgraph.graph.state.StateGraph at 0x1c7c2839750>"
      ]
     },
     "execution_count": 84,
     "metadata": {},
     "output_type": "execute_result"
    }
   ],
   "source": [
    "graph.add_node(\"supervisor\", supervisor_agent)"
   ]
  },
  {
   "cell_type": "code",
   "execution_count": 85,
   "id": "5e33a98e",
   "metadata": {},
   "outputs": [
    {
     "data": {
      "text/plain": [
       "<langgraph.graph.state.StateGraph at 0x1c7c2839750>"
      ]
     },
     "execution_count": 85,
     "metadata": {},
     "output_type": "execute_result"
    }
   ],
   "source": [
    "graph.add_node(\"researcher\", research_agent)"
   ]
  },
  {
   "cell_type": "code",
   "execution_count": 86,
   "id": "559d4010",
   "metadata": {},
   "outputs": [
    {
     "data": {
      "text/plain": [
       "<langgraph.graph.state.StateGraph at 0x1c7c2839750>"
      ]
     },
     "execution_count": 86,
     "metadata": {},
     "output_type": "execute_result"
    }
   ],
   "source": [
    "graph.add_node(\"coder\", coder_agent)"
   ]
  },
  {
   "cell_type": "code",
   "execution_count": 87,
   "id": "7e2aad9a",
   "metadata": {},
   "outputs": [
    {
     "data": {
      "text/plain": [
       "<langgraph.graph.state.StateGraph at 0x1c7c2839750>"
      ]
     },
     "execution_count": 87,
     "metadata": {},
     "output_type": "execute_result"
    }
   ],
   "source": [
    "graph.add_edge(START, \"supervisor\")"
   ]
  },
  {
   "cell_type": "code",
   "execution_count": 88,
   "id": "4ba88340",
   "metadata": {},
   "outputs": [],
   "source": [
    "app=graph.compile()"
   ]
  },
  {
   "cell_type": "code",
   "execution_count": 89,
   "id": "833b0f2d",
   "metadata": {},
   "outputs": [],
   "source": [
    "from IPython.display import display,Image"
   ]
  },
  {
   "cell_type": "code",
   "execution_count": 90,
   "id": "9c848f24",
   "metadata": {},
   "outputs": [
    {
     "data": {
      "image/png": "[encoded data removed]",
      "text/plain": [
       "<IPython.core.display.Image object>"
      ]
     },
     "metadata": {},
     "output_type": "display_data"
    }
   ],
   "source": [
    "display(Image(app.get_graph().draw_mermaid_png()))"
   ]
  },
  {
   "cell_type": "code",
   "execution_count": 91,
   "id": "70212fda",
   "metadata": {},
   "outputs": [
    {
     "name": "stdout",
     "output_type": "stream",
     "text": [
      "**********BELOW IS MY GOTO***************\n",
      "researcher\n",
      "((), {'supervisor': {'next': 'researcher'}})\n",
      "**********BELOW IS MY STATE***************\n",
      "(('researcher:e0e32795-39e7-69b9-240b-2f4fa746f8da',), {'agent': {'messages': [AIMessage(content='The square root of 42 is approximately 6.48. More precisely, it is an irrational number around 6.4807.', additional_kwargs={}, response_metadata={'token_usage': {'completion_tokens': 1020, 'prompt_tokens': 179, 'total_tokens': 1199, 'completion_time': 3.709090909, 'prompt_time': 0.013256146, 'queue_time': 0.052613450000000006, 'total_time': 3.722347055}, 'model_name': 'deepseek-r1-distill-llama-70b', 'system_fingerprint': 'fp_1bbe7845ec', 'finish_reason': 'stop', 'logprobs': None}, id='run--5e9097ff-8b4d-4aa6-b3fd-c8c11a314934-0', usage_metadata={'input_tokens': 179, 'output_tokens': 1020, 'total_tokens': 1199})]}})\n",
      "**********BELOW IS MY STATE***************\n",
      "((), {'researcher': {'messages': [HumanMessage(content='The square root of 42 is approximately 6.48. More precisely, it is an irrational number around 6.4807.', additional_kwargs={}, response_metadata={}, name='researcher')]}})\n",
      "**********BELOW IS MY STATE***************\n",
      "**********BELOW IS MY GOTO***************\n",
      "FINISH\n",
      "((), {'supervisor': {'next': '__end__'}})\n",
      "**********BELOW IS MY STATE***************\n"
     ]
    }
   ],
   "source": [
    "for s in app.stream({\"messages\": [(\"user\", \"What's the square root of 42?\")]}, subgraphs=True):\n",
    "    print(s)\n",
    "    print(\"**********BELOW IS MY STATE***************\")"
   ]
  },
  {
   "cell_type": "code",
   "execution_count": null,
   "id": "01ff96b1",
   "metadata": {},
   "outputs": [],
   "source": []
  }
 ],
 "metadata": {
  "kernelspec": {
   "display_name": "Python 3",
   "language": "python",
   "name": "python3"
  },
  "language_info": {
   "codemirror_mode": {
    "name": "ipython",
    "version": 3
   },
   "file_extension": ".py",
   "mimetype": "text/x-python",
   "name": "python",
   "nbconvert_exporter": "python",
   "pygments_lexer": "ipython3",
   "version": "3.10.16"
  }
 },
 "nbformat": 4,
 "nbformat_minor": 5
}
